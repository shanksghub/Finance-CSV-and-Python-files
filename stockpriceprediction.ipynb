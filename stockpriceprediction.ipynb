{
 "cells": [
  {
   "cell_type": "code",
   "execution_count": 1,
   "metadata": {
    "_cell_guid": "3120effd-f4d7-43ae-305b-2d9ede7d41ff"
   },
   "outputs": [
    {
     "name": "stderr",
     "output_type": "stream",
     "text": [
      "Using TensorFlow backend.\n"
     ]
    }
   ],
   "source": [
    "import numpy as np\n",
    "import pandas as pd\n",
    "\n",
    "from keras.layers.core import Dense, Activation, Dropout\n",
    "from keras.layers.recurrent import LSTM\n",
    "from keras.models import Sequential\n",
    "import time\n",
    "from sklearn.preprocessing import MinMaxScaler\n",
    "import matplotlib.pyplot as plt\n",
    "from numpy import newaxis"
   ]
  },
  {
   "cell_type": "code",
   "execution_count": 2,
   "metadata": {
    "_cell_guid": "fd7d6b63-fe43-4f70-8a2b-ef6fe9eac51c"
   },
   "outputs": [
    {
     "name": "stdout",
     "output_type": "stream",
     "text": [
      "fundamentals.csv\n",
      "prices-split-adjusted.csv\n",
      "prices.csv\n",
      "securities.csv\n",
      "\n"
     ]
    }
   ],
   "source": [
    "# This Python 3 environment comes with many helpful analytics libraries installed\n",
    "# It is defined by the kaggle/python docker image: https://github.com/kaggle/docker-python\n",
    "# For example, here's several helpful packages to load in \n",
    "\n",
    "import numpy as np # linear algebra\n",
    "import pandas as pd # data processing, CSV file I/O (e.g. pd.read_csv)\n",
    "\n",
    "# Input data files are available in the \"../input/\" directory.\n",
    "# For example, running this (by clicking run or pressing Shift+Enter) will list the files in the input directory\n",
    "\n",
    "from subprocess import check_output\n",
    "print(check_output([\"ls\", \"../input\"]).decode(\"utf8\"))\n",
    "\n",
    "# Any results you write to the current directory are saved as output."
   ]
  },
  {
   "cell_type": "code",
   "execution_count": 3,
   "metadata": {
    "_cell_guid": "b00eea20-85d8-a65b-1d0c-f58130230f76"
   },
   "outputs": [],
   "source": [
    "prices_dataset =  pd.read_csv('../input/prices.csv', header=0)"
   ]
  },
  {
   "cell_type": "code",
   "execution_count": 4,
   "metadata": {
    "_cell_guid": "69fa0d40-e4b6-bd73-d582-3080eae745c2"
   },
   "outputs": [
    {
     "data": {
      "text/plain": [
       "(1762, 1)"
      ]
     },
     "execution_count": 4,
     "metadata": {},
     "output_type": "execute_result"
    }
   ],
   "source": [
    "yahoo = prices_dataset[prices_dataset['symbol']=='YHOO']\n",
    "yahoo_stock_prices = yahoo.close.values.astype('float32')\n",
    "yahoo_stock_prices = yahoo_stock_prices.reshape(1762, 1)\n",
    "yahoo_stock_prices.shape"
   ]
  },
  {
   "cell_type": "code",
   "execution_count": 5,
   "metadata": {
    "_cell_guid": "6292766b-171f-a035-22f8-78a5c315d21d"
   },
   "outputs": [
    {
     "data": {
      "image/png": "[encoded data removed]",
      "text/plain": [
       "<matplotlib.figure.Figure at 0x7f897d6c1b70>"
      ]
     },
     "metadata": {},
     "output_type": "display_data"
    }
   ],
   "source": [
    "plt.plot(yahoo_stock_prices)\n",
    "plt.show()"
   ]
  },
  {
   "cell_type": "code",
   "execution_count": 6,
   "metadata": {
    "_cell_guid": "ea1bc723-a000-9c34-ce90-4132572fbb6a"
   },
   "outputs": [],
   "source": [
    "scaler = MinMaxScaler(feature_range=(0, 1))\n",
    "yahoo_stock_prices = scaler.fit_transform(yahoo_stock_prices)"
   ]
  },
  {
   "cell_type": "code",
   "execution_count": 7,
   "metadata": {
    "_cell_guid": "85128562-72aa-352e-3092-645efd334317"
   },
   "outputs": [],
   "source": [
    "train_size = int(len(yahoo_stock_prices) * 0.80)\n",
    "test_size = len(yahoo_stock_prices) - train_size\n",
    "train, test = yahoo_stock_prices[0:train_size,:], yahoo_stock_prices[train_size:len(yahoo_stock_prices),:]"
   ]
  },
  {
   "cell_type": "code",
   "execution_count": 8,
   "metadata": {
    "_cell_guid": "addf78c8-9300-9618-f237-a8ab03e09aed"
   },
   "outputs": [],
   "source": [
    "def create_dataset(dataset, look_back=1):\n",
    "    dataX, dataY = [], []\n",
    "    for i in range(len(dataset)-look_back-1):\n",
    "        a = dataset[i:(i+look_back), 0]\n",
    "        dataX.append(a)\n",
    "        b = dataset[i+look_back,0]\n",
    "        dataY.append(b)\n",
    "    return np.array(dataX), np.array(dataY)"
   ]
  },
  {
   "cell_type": "code",
   "execution_count": 9,
   "metadata": {
    "_cell_guid": "bae35905-629a-144c-9497-fcb9f73c6657"
   },
   "outputs": [],
   "source": [
    "look_back = 1\n",
    "trainX, trainY = create_dataset(train, look_back)"
   ]
  },
  {
   "cell_type": "code",
   "execution_count": 10,
   "metadata": {
    "_cell_guid": "bbcb196e-4312-16a0-68c6-26f21f61cee7"
   },
   "outputs": [],
   "source": [
    "testX, testY = create_dataset(test, look_back)"
   ]
  },
  {
   "cell_type": "code",
   "execution_count": 11,
   "metadata": {
    "_cell_guid": "d651d743-e18a-f56e-8b38-a4adc3ddc5bf"
   },
   "outputs": [],
   "source": [
    "trainX = np.reshape(trainX, (trainX.shape[0], 1, trainX.shape[1]))\n",
    "testX = np.reshape(testX, (testX.shape[0], 1, testX.shape[1]))"
   ]
  },
  {
   "cell_type": "code",
   "execution_count": 12,
   "metadata": {
    "_cell_guid": "1f8caa5e-954a-67a2-e0d5-9aa05821ebad"
   },
   "outputs": [
    {
     "name": "stderr",
     "output_type": "stream",
     "text": [
      "/opt/conda/lib/python3.6/site-packages/ipykernel/__main__.py:6: UserWarning: The `input_dim` and `input_length` arguments in recurrent layers are deprecated. Use `input_shape` instead.\n",
      "/opt/conda/lib/python3.6/site-packages/ipykernel/__main__.py:6: UserWarning: Update your `LSTM` call to the Keras 2 API: `LSTM(return_sequences=True, input_shape=(None, 1), units=50)`\n",
      "/opt/conda/lib/python3.6/site-packages/ipykernel/__main__.py:15: UserWarning: Update your `Dense` call to the Keras 2 API: `Dense(units=1)`\n",
      "/opt/conda/lib/python3.6/site-packages/Keras-2.0.4-py3.6.egg/keras/models.py:849: UserWarning: The `nb_epoch` argument in `fit` has been renamed `epochs`.\n",
      "  warnings.warn('The `nb_epoch` argument in `fit` '\n",
      "/opt/conda/lib/python3.6/site-packages/Keras-2.0.4-py3.6.egg/keras/backend/tensorflow_backend.py:2289: UserWarning: Expected no kwargs, you passed 1\n",
      "kwargs passed to function are ignored with Tensorflow backend\n",
      "  warnings.warn('\\n'.join(msg))\n"
     ]
    },
    {
     "name": "stdout",
     "output_type": "stream",
     "text": [
      "compilation time :  0.023167133331298828\n",
      "Train on 1336 samples, validate on 71 samples\n",
      "Epoch 1/10\n",
      "1336/1336 [==============================] - 0s - loss: 0.1321 - val_loss: 0.2881\n",
      "Epoch 2/10\n",
      "1336/1336 [==============================] - 0s - loss: 0.0691 - val_loss: 0.1418\n",
      "Epoch 3/10\n",
      "1336/1336 [==============================] - 0s - loss: 0.0392 - val_loss: 0.0627\n",
      "Epoch 4/10\n",
      "1336/1336 [==============================] - 0s - loss: 0.0280 - val_loss: 0.0341\n",
      "Epoch 5/10\n",
      "1336/1336 [==============================] - 0s - loss: 0.0187 - val_loss: 0.0172\n",
      "Epoch 6/10\n",
      "1336/1336 [==============================] - 0s - loss: 0.0094 - val_loss: 0.0058\n",
      "Epoch 7/10\n",
      "1336/1336 [==============================] - 0s - loss: 0.0036 - val_loss: 0.0016\n",
      "Epoch 8/10\n",
      "1336/1336 [==============================] - 0s - loss: 0.0019 - val_loss: 3.8543e-04\n",
      "Epoch 9/10\n",
      "1336/1336 [==============================] - 0s - loss: 0.0019 - val_loss: 9.1763e-04\n",
      "Epoch 10/10\n",
      "1336/1336 [==============================] - 0s - loss: 0.0016 - val_loss: 3.7415e-04\n"
     ]
    },
    {
     "data": {
      "text/plain": [
       "<keras.callbacks.History at 0x7f896fb67dd8>"
      ]
     },
     "execution_count": 12,
     "metadata": {},
     "output_type": "execute_result"
    }
   ],
   "source": [
    "model = Sequential()\n",
    "\n",
    "model.add(LSTM(\n",
    "    input_dim=1,\n",
    "    output_dim=50,\n",
    "    return_sequences=True))\n",
    "model.add(Dropout(0.2))\n",
    "\n",
    "model.add(LSTM(\n",
    "    100,\n",
    "    return_sequences=False))\n",
    "model.add(Dropout(0.2))\n",
    "\n",
    "model.add(Dense(\n",
    "    output_dim=1))\n",
    "model.add(Activation('linear'))\n",
    "\n",
    "start = time.time()\n",
    "model.compile(loss='mse', optimizer='rmsprop')\n",
    "print ('compilation time : ', time.time() - start)\n",
    "\n",
    "model.fit(\n",
    "    trainX,\n",
    "    trainY,\n",
    "    batch_size=128,\n",
    "    nb_epoch=10,\n",
    "    validation_split=0.05)"
   ]
  },
  {
   "cell_type": "code",
   "execution_count": 13,
   "metadata": {
    "_cell_guid": "24e467bc-4a6d-18c7-698c-2378854f078c"
   },
   "outputs": [],
   "source": [
    "def plot_results_multiple(predicted_data, true_data, length):\n",
    "    plt.plot(scaler.inverse_transform(true_data.reshape(-1, 1))[length:])\n",
    "    plt.plot(scaler.inverse_transform(np.array(predicted_data).reshape(-1, 1))[length:])\n",
    "    plt.show()"
   ]
  },
  {
   "cell_type": "code",
   "execution_count": 14,
   "metadata": {
    "_cell_guid": "68c011a1-daad-053a-4c9d-ad3df4f89a09"
   },
   "outputs": [],
   "source": [
    "def predict_sequences_multiple(model, firstValue, length):\n",
    "    prediction_seqs = []\n",
    "    curr_frame = firstValue\n",
    "\n",
    "    for i in range(length):\n",
    "        predicted = []\n",
    "\n",
    "        predicted.append(model.predict(curr_frame[newaxis, :, :])[0, 0])\n",
    "\n",
    "        curr_frame = curr_frame[0:]\n",
    "        curr_frame = np.insert(curr_frame[0:], i + 1, predicted[-1], axis=0)\n",
    "\n",
    "        prediction_seqs.append(predicted[-1])\n",
    "\n",
    "    return prediction_seqs"
   ]
  },
  {
   "cell_type": "code",
   "execution_count": 15,
   "metadata": {
    "_cell_guid": "404d38f9-1c43-c9a9-fcb1-01e92574f1e1"
   },
   "outputs": [
    {
     "name": "stderr",
     "output_type": "stream",
     "text": [
      "/opt/conda/lib/python3.6/site-packages/Keras-2.0.4-py3.6.egg/keras/backend/tensorflow_backend.py:2289: UserWarning: Expected no kwargs, you passed 1\n",
      "kwargs passed to function are ignored with Tensorflow backend\n",
      "  warnings.warn('\\n'.join(msg))\n"
     ]
    },
    {
     "data": {
      "image/png": "[encoded data removed]",
      "text/plain": [
       "<matplotlib.figure.Figure at 0x7f896c2d0b38>"
      ]
     },
     "metadata": {},
     "output_type": "display_data"
    }
   ],
   "source": [
    "predict_length = 5\n",
    "predictions = predict_sequences_multiple(model, testX[0], predict_length)\n",
    "plot_results_multiple(predictions, testY, predict_length)"
   ]
  }
 ],
 "metadata": {
  "_change_revision": 131,
  "_is_fork": false,
  "kernelspec": {
   "display_name": "Python 3",
   "language": "python",
   "name": "python3"
  },
  "language_info": {
   "codemirror_mode": {
    "name": "ipython",
    "version": 3
   },
   "file_extension": ".py",
   "mimetype": "text/x-python",
   "name": "python",
   "nbconvert_exporter": "python",
   "pygments_lexer": "ipython3",
   "version": "3.6.0"
  }
 },
 "nbformat": 4,
 "nbformat_minor": 0
}
